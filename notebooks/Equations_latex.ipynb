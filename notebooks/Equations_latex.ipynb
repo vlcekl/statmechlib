{
 "cells": [
  {
   "cell_type": "markdown",
   "metadata": {},
   "source": [
    "# Equations"
   ]
  },
  {
   "cell_type": "markdown",
   "metadata": {},
   "source": [
    "## Hamiltonian"
   ]
  },
  {
   "cell_type": "markdown",
   "metadata": {},
   "source": [
    "Energy of an N-particle configuration\n",
    "\n",
    "$$ E = \\sum_{i=1}^N \\left[ \\sum_{j>i}^N V_{t_it_j}\\left(r_{ij}\\right) + F_{t_i}\\left(\\rho_i\\right) \\right] $$\n",
    "\n",
    "Here $V_{t_it_j}$ is pair interaction between atom types $t_i$ and $t_j$ at distance $r_{ij}$ defined as\n",
    "\n",
    "$$ V_{t_it_j}\\left(r_{ij}\\right) = \\sum_{k=1}^{K}\\left[a_k\\left(r_k - r_{ij}\\right)^3\\Theta\\left(r_k - r_{ij}\\right)\\right]\\ $$\n",
    "\n",
    "where $\\Theta$ is Heaviside step function.\n",
    "$F_{t_i}$ is the manybody embedding function\n",
    "\n",
    "$$ F_{t_i}(\\rho_i) = A_{t_i}\\sqrt{\\rho_i} + C_{t_i}\\rho^2 $$\n",
    "\n",
    "where $\\rho_i$ effective electron density \n",
    "\n",
    "$$ \\rho_i = \\sum_{j\\ne i}^N \\phi_{t_j}\\left(r_{ij}\\right) $$\n",
    "\n",
    "and $\\phi$ is cohesive potential (a.k.a. density function).\n",
    "\n",
    "In the simplest case (such as in Bonny et. al), the density function can be represented by a simple cubic function.\n",
    "\n",
    "$$ \\phi\\left(r_{ij}\\right) = D_{t_j}\\left(r_c - r_{ij}\\right)^3\\Theta\\left(r_c - r_{ij}\\right) $$\n",
    "\n",
    "More generally, the density function can be represented by a cubic spline\n",
    "\n",
    "$$ \\phi\\left(r_{ij}\\right) = \\sum_{l=1}^{L}\\left[a_l\\left(r_l - r_{ij}\\right)^3\\Theta\\left(r_l - r_{ij}\\right)\\right]\\ $$"
   ]
  },
  {
   "cell_type": "markdown",
   "metadata": {},
   "source": [
    "**Energy of a configuration**\n",
    "\n",
    "Energy of an N-particle configuration\n",
    "\n",
    "$$ E_{pair} = \\sum_{k=1}^{K}a_k\\sum_{i=1}^N \\sum_{j>i}^N \\left[\\left(r_k - r_{ij}\\right)^3\\Theta\\left(r_k - r_{ij}\\right)\\right]\\ = \\sum_{k=1}^{K}a_kv_k $$\n",
    "\n",
    "$$ E_{manybody} = b_1\\sum_{i=1}^N\\sqrt{\\sum_{j\\ne i}^N \\left[\\left(r_c - r_{ij}\\right)^3\\Theta\\left(r_c - r_{ij}\\right)\\right]} + b_2 \\sum_{i=1}^N \\left( \\sum_{j\\ne i}^N \\left[\\left(r_c - r_{ij}\\right)^3\\Theta\\left(r_c - r_{ij}\\right)\\right] \\right)^2 = b_1m_1 + b_2m_2$$\n",
    "\n",
    "**Similar for evaluating forces on each atom... **\n",
    "\n",
    "During optimization, collect statistics $v_k$ and $b_k$ for each configuration and calculate its energy by multiplying them by model parameters $a_k$ and $b_k$."
   ]
  },
  {
   "cell_type": "markdown",
   "metadata": {},
   "source": [
    "# Jacobian with respect to model parameters\n",
    "\n",
    "Needed for optimization using the gradient of a loss function"
   ]
  },
  {
   "cell_type": "markdown",
   "metadata": {},
   "source": [
    "$$\\frac{\\partial F\\left(\\rho\\right)}{\\partial \\beta}$$"
   ]
  },
  {
   "cell_type": "markdown",
   "metadata": {},
   "source": [
    "## Hessian with respect to model parameters\n",
    "\n",
    "Needed for optimization using the second derivative, such as Newton-Raphson method"
   ]
  },
  {
   "cell_type": "code",
   "execution_count": null,
   "metadata": {},
   "outputs": [],
   "source": []
  }
 ],
 "metadata": {
  "kernelspec": {
   "display_name": "Python 3",
   "language": "python",
   "name": "python3"
  },
  "language_info": {
   "codemirror_mode": {
    "name": "ipython",
    "version": 3
   },
   "file_extension": ".py",
   "mimetype": "text/x-python",
   "name": "python",
   "nbconvert_exporter": "python",
   "pygments_lexer": "ipython3",
   "version": "3.6.8"
  }
 },
 "nbformat": 4,
 "nbformat_minor": 2
}
